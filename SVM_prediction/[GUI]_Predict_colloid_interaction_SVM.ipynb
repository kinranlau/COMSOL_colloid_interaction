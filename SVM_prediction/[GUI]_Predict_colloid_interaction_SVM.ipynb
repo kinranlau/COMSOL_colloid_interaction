{
  "nbformat": 4,
  "nbformat_minor": 0,
  "metadata": {
    "colab": {
      "provenance": [],
      "authorship_tag": "ABX9TyMI9DD4BR+4dgZeIZCdxbq4",
      "include_colab_link": true
    },
    "kernelspec": {
      "name": "python3",
      "display_name": "Python 3"
    },
    "language_info": {
      "name": "python"
    }
  },
  "cells": [
    {
      "cell_type": "markdown",
      "metadata": {
        "id": "view-in-github",
        "colab_type": "text"
      },
      "source": [
        "<a href=\"https://colab.research.google.com/github/kinranlau/COMSOL_colloid_interaction/blob/main/SVM_prediction/%5BGUI%5D_Predict_colloid_interaction_SVM.ipynb\" target=\"_parent\"><img src=\"https://colab.research.google.com/assets/colab-badge.svg\" alt=\"Open In Colab\"/></a>"
      ]
    },
    {
      "cell_type": "markdown",
      "source": [
        "## Predict whether the interaction is favorable\n",
        "\n",
        "**By fitting the simulated data with a SVM, this notebook provides an interactive GUI to predict whether a particular interaction is favorable (below or above kT) given a set of parameters.**\n",
        "\n",
        "<br>\n",
        "\n",
        "See the original paper:\n",
        "\n",
        "*A Multi-Parameter Study of the Colloidal\n",
        "Interaction between Au and TiO<sub>2</sub>: The Role of\n",
        "Surface Potential, Concentration and Defects*\n",
        "\n",
        "---\n",
        "<p align=\"center\">\n",
        "  <img src=\"https://github.com/kinranlau/COMSOL_colloid_interaction/blob/main/SVM_prediction/Model%20configuration.gif?raw=true\" width=\"600\">\n",
        "</p>\n",
        "\n",
        "- this model considers the interaction between a **negative particle (e.g. Au)** and a **negative surface with positive defects (e.g. TiO<sub>2</sub>)** in water,\n",
        "- with 80640 different combinations of these 7 parameters:\n",
        "  - $V_{Part}:$ Particle potential\n",
        "  - $V_{Surf}:$ Surface potential\n",
        "  - $V_{Def}:$ Defect potential\n",
        "  - $DD:$ Defect density\n",
        "  - $Conc:$ Concentration\n",
        "  - $R:$ Particle radius\n",
        "  - $A_H:$ Hamaker constant\n",
        "\n",
        "<br>\n",
        "\n",
        "- the electrostatic interaction energy was computed with the software COMSOL\n",
        "- and the van der Waals contribution was added subsequently\n",
        "\n",
        "<br>\n",
        "\n",
        "- this notebook takes the computed data and fit them with SVM (Support Vector Machine)\n",
        "- so you can input a combination of these 7 parameters \n",
        "- and predict whether the interaction is energetically feasible or not (below or above kT)\n",
        "\n",
        "\n",
        "<br>\n",
        "\n",
        "> This notebook is divided into various \"*cells*\", and you can run them one by one by clicking the \"*Run cell*\" button which looks like a play button."
      ],
      "metadata": {
        "id": "p4k08TdjqTes"
      }
    },
    {
      "cell_type": "code",
      "execution_count": null,
      "metadata": {
        "id": "L6R-gDxZT3yW"
      },
      "outputs": [],
      "source": [
        "#@title Import data and libraries { display-mode: \"form\" }\n",
        "\n",
        "# import data\n",
        "import pandas as pd\n",
        "results = pd.read_csv('https://raw.githubusercontent.com/kinranlau/COMSOL_colloid_interaction/main/SVM_prediction/results_varyvdw_SVM.csv')\n",
        "\n",
        "# select features and label\n",
        "# split into training and test set\n",
        "# scale the features\n",
        "# run SVM\n",
        "from sklearn.model_selection import train_test_split\n",
        "from sklearn.preprocessing import StandardScaler\n",
        "from sklearn.svm import SVC\n",
        "\n",
        "import numpy as np\n",
        "\n",
        "# first select the 7 features that we want:\n",
        "# 1. colloid radius\n",
        "# 2. V_particle\n",
        "# 3. V_defect\n",
        "# 4. V_surface\n",
        "# 5. defect density\n",
        "# 6. conc.\n",
        "# 7. hamaker constant\n",
        "\n",
        "features = results[['R/l_D',\n",
        "                    'Particle potential',\n",
        "                    'Defect potential',\n",
        "                    'Surface potential',\n",
        "                    'Defect density',\n",
        "                    'Concentration / mM',\n",
        "                    'Hamaker constant / 10^-21 J']]\n",
        "\n",
        "# our label is the whether the final energy is \"above/below kT\"\n",
        "# add another column to show below/above kT\n",
        "# 1: below kT; 0: above kT\n",
        "below_kT = lambda x: 1 if x <= 1.001 else 0\n",
        "results['below kT'] = results['Energy / kT'].apply(below_kT)\n",
        "\n",
        "label = results['below kT']"
      ]
    },
    {
      "cell_type": "code",
      "source": [
        "#@title Split data into training and test set (80:20) { display-mode: \"form\" }\n",
        "\n",
        "# split into training and test set\n",
        "training_data, validation_data, training_labels, validation_labels = train_test_split(features, label, test_size = 0.2)\n",
        "\n",
        "# scale the feature data so it has mean = 0 and standard deviation = 1\n",
        "scaler = StandardScaler()\n",
        "training_data = scaler.fit_transform(training_data)\n",
        "validation_data = scaler.fit_transform(validation_data)"
      ],
      "metadata": {
        "id": "KoWULcGMUe0D"
      },
      "execution_count": null,
      "outputs": []
    },
    {
      "cell_type": "code",
      "source": [
        "#@title Fit data with SVM { display-mode: \"form\" }\n",
        "#@markdown This might take ~30 seconds to run.\n",
        "\n",
        "#@markdown You should get an accuracy of about 97%.\n",
        "\n",
        "# fit with SVM\n",
        "# using default C and gamma\n",
        "SVM = SVC()\n",
        "SVM.fit(training_data, training_labels) \n",
        "\n",
        "# score the SVM model\n",
        "SVM_score = SVM.score(validation_data, validation_labels)\n",
        "print(f'The model has an accuracy of {SVM_score*100:.2f}%.')"
      ],
      "metadata": {
        "colab": {
          "base_uri": "https://localhost:8080/"
        },
        "id": "rR4CSI22VZhB",
        "outputId": "1ddf59bc-6c98-4988-c947-7e28a827648a"
      },
      "execution_count": null,
      "outputs": [
        {
          "output_type": "stream",
          "name": "stdout",
          "text": [
            "The model has an accuracy of 97.72%.\n"
          ]
        }
      ]
    },
    {
      "cell_type": "code",
      "source": [
        "#@title Helper functions for predicting \"below kT\" or \"above kT\" { display-mode: \"form\" }\n",
        "\n",
        "# predict below kT or not with SVM\n",
        "def predict_below_kT(para):\n",
        "    # predict \"below kT\" or not\n",
        "    # 1: below kT; 0: above kT\n",
        "\n",
        "    # scale input\n",
        "    para = scaler.transform(para)\n",
        "    \n",
        "    # predict by SVM\n",
        "    SVM_pred = SVM.predict(para)[0]\n",
        "\n",
        "    # decision function:\n",
        "    # larger absolute value = higher confidence\n",
        "    # close to zero = very low confidence\n",
        "    SVM_decision_func = SVM.decision_function(para)[0]\n",
        "\n",
        "    if SVM_pred == 0:\n",
        "      print(f'Prediction by SVM: Above kT! The decision function is {SVM_decision_func:.3f}.')\n",
        "    else:\n",
        "      print(f'Prediction by SVM: Below kT! The decision function is {SVM_decision_func:.3f}.')\n",
        "\n",
        "\n",
        "# Compare with original data if it existed\n",
        "def compare_data():\n",
        "  df = results[\\\n",
        "      (results['R/l_D'] == radius) & \\\n",
        "      (results['Particle potential'] == V_particle) & \\\n",
        "      (results['Defect potential'] == V_defect) & \\\n",
        "      (results['Surface potential'] == V_surface) & \\\n",
        "      (results['Defect density'] == DD) & \\\n",
        "      (results['Concentration / mM'] == conc) & \\\n",
        "      (results['Hamaker constant / 10^-21 J'] == hamaker)\n",
        "      ]\n",
        "\n",
        "  if df.empty == True:\n",
        "    print(\"NB: This set of parameters does not exist in the original dataset.\")\n",
        "  else:\n",
        "    real_E = df['below kT'].iloc[0]\n",
        "\n",
        "    if real_E == 0:\n",
        "      print('NB: This set of parameters exists in the original dataset. Results: above kT!')\n",
        "    else:\n",
        "      print('NB: This set of parameters exists in the original dataset. Results: below kT!')"
      ],
      "metadata": {
        "id": "uu59NGX3VuLv"
      },
      "execution_count": null,
      "outputs": []
    },
    {
      "cell_type": "code",
      "source": [
        "#@markdown <img src=\"https://github.com/kinranlau/COMSOL_colloid_interaction/blob/main/SVM_prediction/Parameters.png?raw=true\" width=\"400\">\n",
        "\n",
        "#@title Input your parameters and run the prediction!  { display-mode: \"form\" }\n",
        "#@markdown <br>\n",
        "\n",
        "#@markdown ### 1. $V_{Part}:$ Particle potential (mV or dimensionless potential)\n",
        "#@markdown - You can select the unit of the potentials (\"mV\" or \"Dimensionless potential\"). \n",
        "#@markdown - At 298 K, dimensionless potential can be converted to mV by simply multiplying by 25.7.\n",
        "unit_of_potential = 'mV' #@param [\"mV\", \"Dimensionless potential\"] {allow-input: false}\n",
        "V_particle = -35 #@param {type:\"number\"}\n",
        "#@markdown ---\n",
        "\n",
        "#@markdown ### 2. $V_{Surf}:$ Surface potential (mV or dimensionless potential)\n",
        "V_surface =  -35#@param {type:\"number\"}\n",
        "#@markdown ---\n",
        "\n",
        "#@markdown ### 3. $V_{Def}:$ Defect potential (mV or dimensionless potential)\n",
        "V_defect =  0#@param {type:\"number\"}\n",
        "#@markdown ---\n",
        "\n",
        "#@markdown ### 4. $DD:$ Defect density\n",
        "#@markdown - Defects are arranged in a cubic primitive array, and defect density is defined by $\\frac{\\pi {l_D}^{2}}{a^2}$.\n",
        "#@markdown - $l_D$ is 0.5 nm in our model.\n",
        "\n",
        "#@markdown <img src=\"https://github.com/kinranlau/COMSOL_colloid_interaction/blob/main/SVM_prediction/Defect%20definition.png?raw=true\" width=\"500\">\n",
        "DD =  0#@param {type:\"number\"}\n",
        "#@markdown ---\n",
        "\n",
        "#@markdown ### 5. $Conc:$ Concentration of salt (mM)\n",
        "conc =  0.5#@param {type:\"number\"}\n",
        "#@markdown ---\n",
        "\n",
        "#@markdown ### 6. $R:$ Particle radius (nm)\n",
        "radius =  2.5#@param {type:\"number\"}\n",
        "#@markdown ---\n",
        "\n",
        "#@markdown ### 7. $A_H:$ Hamaker constant (zJ)\n",
        "#@markdown - TiO<sub>2</sub> - TiO<sub>2</sub>: 50 - 60 zJ\n",
        "#@markdown - Au - Au: 90 - 300 zJ\n",
        "#@markdown - The Hamaker constant for Au - TiO<sub>2</sub> can be estimated by taking the harmonic or geometric mean (100 zJ was used in the paper).\n",
        "\n",
        "\n",
        "\n",
        "# TiO2 - TiO2: ~50-60\n",
        "# Au - Au: ~150\n",
        "hamaker = 50\n",
        "hamaker =  100#@param {type:\"number\"}\n",
        "#@markdown ---\n",
        "\n",
        "############################################################\n",
        "# conversion of units if needed\n",
        "# the model fitted the potentials in dimensionless potential\n",
        "# so if the input is in mV, then conversion to dimensionless potential is needed\n",
        "if unit_of_potential == 'mV':\n",
        "  V_particle /= 25.7\n",
        "  V_surface /= 25.7\n",
        "  V_defect /= 25.7\n",
        "\n",
        "# in our model, the particle radius is defined relative to l_D which is 0.5 nm\n",
        "# so we need to convert nm back to units of l_D\n",
        "radius /= 0.5\n",
        "\n",
        "\n",
        "# concat parameters\n",
        "para_array = np.array([radius, V_particle, V_defect, V_surface, DD, conc, hamaker])\n",
        "para_array = para_array.reshape(1,7)\n",
        "\n",
        "para_label = ['R/l_D',\n",
        "              'Particle potential',\n",
        "              'Defect potential',\n",
        "              'Surface potential',\n",
        "              'Defect density',\n",
        "              'Concentration / mM',\n",
        "              'Hamaker constant / 10^-21 J']\n",
        "\n",
        "para = pd.DataFrame(para_array, columns =  para_label)\n",
        "\n",
        "# predict above/below kT with probability\n",
        "predict_below_kT(para)\n",
        "print('Decision function: a larger absolute value means higher confidence; closer to zero means less confidence.')\n",
        "\n",
        "# compare with original data if it existed\n",
        "print('\\n')\n",
        "compare_data()"
      ],
      "metadata": {
        "colab": {
          "base_uri": "https://localhost:8080/"
        },
        "id": "lknJS1pKa5Sk",
        "outputId": "3bdd7765-2055-44e4-a987-f809f580ddb0"
      },
      "execution_count": null,
      "outputs": [
        {
          "output_type": "stream",
          "name": "stdout",
          "text": [
            "Prediction by SVM: Above kT! The decision function is -1.142.\n",
            "Decision function: a larger absolute value means higher confidence; closer to zero means less confidence.\n",
            "\n",
            "\n",
            "NB: This set of parameters does not exist in the original dataset.\n"
          ]
        }
      ]
    },
    {
      "cell_type": "code",
      "source": [],
      "metadata": {
        "id": "ZmkTEbAy3z3s"
      },
      "execution_count": null,
      "outputs": []
    }
  ]
}